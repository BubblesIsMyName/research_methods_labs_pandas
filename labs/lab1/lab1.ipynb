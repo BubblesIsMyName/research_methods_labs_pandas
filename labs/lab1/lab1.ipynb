{
 "cells": [
  {
   "cell_type": "markdown",
   "metadata": {},
   "source": [
    "The excercises:\n",
    "\n",
    "https://vle.aston.ac.uk/bbcswebdav/courses/2022_CS4780_P1_P2_A/Labs/Lab01_Introduction.html\n",
    "\n",
    "Data to download:\n",
    "\n",
    "https://vle.aston.ac.uk/webapps/cmsmain/webui/courses/2022_CS4780_P1_P2_A/Labs/data?action=frameset&subaction=view&uniq=-j3yb34&course_id=_39400_1&mask=%2Fcourses%2F2022_CS4780_P1_P2_A"
   ]
  },
  {
   "cell_type": "markdown",
   "metadata": {},
   "source": [
    "# Instructions for installing jupyter Notebook. \n",
    "\n",
    "Iprefer to work in the VS code editor so the instructions are for this particular editor.\n",
    "https://opensourceoptions.com/blog/jupyter-notebooks-in-visual-studio-code/"
   ]
  },
  {
   "cell_type": "code",
   "execution_count": null,
   "metadata": {},
   "outputs": [],
   "source": []
  }
 ],
 "metadata": {
  "language_info": {
   "name": "python"
  },
  "orig_nbformat": 4
 },
 "nbformat": 4,
 "nbformat_minor": 2
}
